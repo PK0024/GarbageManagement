{
  "nbformat": 4,
  "nbformat_minor": 0,
  "metadata": {
    "colab": {
      "provenance": []
    },
    "kernelspec": {
      "name": "python3",
      "display_name": "Python 3"
    },
    "language_info": {
      "name": "python"
    }
  },
  "cells": [
    {
      "cell_type": "markdown",
      "source": [
        "# Image Classification"
      ],
      "metadata": {
        "id": "xs_dJmjzLsDf"
      }
    },
    {
      "cell_type": "markdown",
      "source": [
        "#### Adding all the imports"
      ],
      "metadata": {
        "id": "peamYfv2Lf3X"
      }
    },
    {
      "cell_type": "code",
      "execution_count": 1,
      "metadata": {
        "id": "ADTDTrrJIwnF"
      },
      "outputs": [],
      "source": [
        "import os\n",
        "import random\n",
        "import shutil\n",
        "import tensorflow as tf\n",
        "from sklearn.metrics import accuracy_score\n",
        "from tensorflow.keras.models import Sequential\n",
        "from tensorflow.keras.layers import Conv2D, MaxPooling2D, Flatten, Dense, Dropout, GlobalAveragePooling2D\n",
        "from tensorflow.keras.preprocessing.image import ImageDataGenerator\n",
        "from tensorflow.keras.optimizers import Adam\n",
        "from tensorflow.keras.callbacks import EarlyStopping, ReduceLROnPlateau\n",
        "from tensorflow.keras.applications import VGG16\n",
        "import matplotlib.pyplot as plt\n",
        "import zipfile\n",
        "import requests"
      ]
    },
    {
      "cell_type": "markdown",
      "source": [
        "#### Loading Dataset from GitHub"
      ],
      "metadata": {
        "id": "e1ptxCcWMAu_"
      }
    },
    {
      "cell_type": "code",
      "source": [
        "repo_url = 'https://github.com/PK0024/Waste/archive/99e7ca9e6aea0f709f1a3fe002d485fb90f84e59.zip'\n",
        "zip_path = 'waste_data.zip'"
      ],
      "metadata": {
        "id": "TcQPZmPzJCyP"
      },
      "execution_count": 2,
      "outputs": []
    },
    {
      "cell_type": "markdown",
      "source": [
        "#### Downloading the zip file"
      ],
      "metadata": {
        "id": "jj2fXwIOMFmM"
      }
    },
    {
      "cell_type": "code",
      "source": [
        "response = requests.get(repo_url)\n",
        "with open(zip_path, 'wb') as file:\n",
        "    file.write(response.content)"
      ],
      "metadata": {
        "id": "QTgvhEDTJGMq"
      },
      "execution_count": 3,
      "outputs": []
    },
    {
      "cell_type": "markdown",
      "source": [
        "#### Extract the zip file"
      ],
      "metadata": {
        "id": "lsDPAEZBMSWy"
      }
    },
    {
      "cell_type": "code",
      "source": [
        "with zipfile.ZipFile(zip_path, 'r') as zip_ref:\n",
        "    zip_ref.extractall('.')"
      ],
      "metadata": {
        "id": "b2jKCb1jJIUG"
      },
      "execution_count": 4,
      "outputs": []
    },
    {
      "cell_type": "markdown",
      "source": [
        "#### Define paths to cardboard and glass folders after extraction"
      ],
      "metadata": {
        "id": "-YS8wraPMmeV"
      }
    },
    {
      "cell_type": "code",
      "source": [
        "data_folder = 'Waste-99e7ca9e6aea0f709f1a3fe002d485fb90f84e59/Garbage classification/Garbage classification'\n",
        "cardboard_folder = os.path.join(data_folder, 'cardboard')\n",
        "glass_folder = os.path.join(data_folder, 'glass')"
      ],
      "metadata": {
        "id": "GmXSKUbdJLWv"
      },
      "execution_count": 5,
      "outputs": []
    },
    {
      "cell_type": "markdown",
      "source": [
        "#### Function to merge images from source folders to destination folder"
      ],
      "metadata": {
        "id": "MGNmMMi0OAzs"
      }
    },
    {
      "cell_type": "code",
      "source": [
        "def merge_images(src_folders, dest_folder):\n",
        "    os.makedirs(dest_folder, exist_ok=True)\n",
        "    for folder in src_folders:\n",
        "        for file_name in os.listdir(folder):\n",
        "            src_file = os.path.join(folder, file_name)\n",
        "            dest_file = os.path.join(dest_folder, file_name)\n",
        "            shutil.copy(src_file, dest_file)"
      ],
      "metadata": {
        "id": "j5E4FQgaJNQA"
      },
      "execution_count": 6,
      "outputs": []
    },
    {
      "cell_type": "markdown",
      "source": [
        "#### Merge cardboard and glass images into a single folder"
      ],
      "metadata": {
        "id": "0334JIVdPBPm"
      }
    },
    {
      "cell_type": "code",
      "source": [
        "merged_folder = 'merged_images'\n",
        "merge_images([cardboard_folder, glass_folder], merged_folder)"
      ],
      "metadata": {
        "id": "XSRVuHAfJPpn"
      },
      "execution_count": 9,
      "outputs": []
    },
    {
      "cell_type": "markdown",
      "source": [
        "#### Define paths for training and testing sets"
      ],
      "metadata": {
        "id": "5RvTCmRQPFEh"
      }
    },
    {
      "cell_type": "code",
      "source": [
        "train_folder = 'train'\n",
        "test_folder = 'test'"
      ],
      "metadata": {
        "id": "j_76zz3QJRwX"
      },
      "execution_count": 10,
      "outputs": []
    },
    {
      "cell_type": "markdown",
      "source": [
        "#### Create subdirectories for train and test sets"
      ],
      "metadata": {
        "id": "LbdXccxUPJyA"
      }
    },
    {
      "cell_type": "code",
      "source": [
        "train_cardboard = os.path.join(train_folder, 'cardboard')\n",
        "train_glass = os.path.join(train_folder, 'glass')\n",
        "test_cardboard = os.path.join(test_folder, 'cardboard')\n",
        "test_glass = os.path.join(test_folder, 'glass')\n",
        "\n",
        "os.makedirs(train_cardboard, exist_ok=True)\n",
        "os.makedirs(train_glass, exist_ok=True)\n",
        "os.makedirs(test_cardboard, exist_ok=True)\n",
        "os.makedirs(test_glass, exist_ok=True)"
      ],
      "metadata": {
        "id": "uBF7mL_HJUxT"
      },
      "execution_count": 12,
      "outputs": []
    },
    {
      "cell_type": "markdown",
      "source": [
        "#### Function to split data into train and test sets randomly"
      ],
      "metadata": {
        "id": "igxjZwqIPO7T"
      }
    },
    {
      "cell_type": "code",
      "source": [
        "def split_data_randomly(src_folder, train_dest, test_dest, split_ratio):\n",
        "    files = os.listdir(src_folder)\n",
        "    random.shuffle(files)\n",
        "    split_index = int(len(files) * split_ratio)\n",
        "    train_files = files[:split_index]\n",
        "    test_files = files[split_index:]\n",
        "    for file in train_files:\n",
        "        shutil.copy(os.path.join(src_folder, file), os.path.join(train_dest, file))\n",
        "    for file in test_files:\n",
        "        shutil.copy(os.path.join(src_folder, file), os.path.join(test_dest, file))"
      ],
      "metadata": {
        "id": "7I94coIJJVv_"
      },
      "execution_count": 13,
      "outputs": []
    },
    {
      "cell_type": "markdown",
      "source": [
        "#### split merged data into train and test sets"
      ],
      "metadata": {
        "id": "DxKbyr5aPf2V"
      }
    },
    {
      "cell_type": "code",
      "source": [
        "split_data_randomly(cardboard_folder, train_cardboard, test_cardboard, split_ratio=0.8)\n",
        "split_data_randomly(glass_folder, train_glass, test_glass, split_ratio=0.8)"
      ],
      "metadata": {
        "id": "myzW10jmJcJy"
      },
      "execution_count": 14,
      "outputs": []
    },
    {
      "cell_type": "markdown",
      "source": [
        "#### Define image size and batch size"
      ],
      "metadata": {
        "id": "tQQpKay2PiiK"
      }
    },
    {
      "cell_type": "code",
      "source": [
        "image_size = (224, 224)\n",
        "batch_size = 32"
      ],
      "metadata": {
        "id": "x3Aa8mgrJfjs"
      },
      "execution_count": 15,
      "outputs": []
    },
    {
      "cell_type": "markdown",
      "source": [
        "#### Enhanced Data Augmentation"
      ],
      "metadata": {
        "id": "PGqdiAvhPp9D"
      }
    },
    {
      "cell_type": "code",
      "source": [
        "train_datagen = ImageDataGenerator(\n",
        "    rescale=1./255,\n",
        "    rotation_range=40,\n",
        "    width_shift_range=0.3,\n",
        "    height_shift_range=0.3,\n",
        "    shear_range=0.3,\n",
        "    zoom_range=0.3,\n",
        "    horizontal_flip=True,\n",
        "    fill_mode='nearest'\n",
        ")\n",
        "\n",
        "test_datagen = ImageDataGenerator(rescale=1./255)\n",
        "\n",
        "train_generator = train_datagen.flow_from_directory(\n",
        "    train_folder,\n",
        "    target_size=image_size,\n",
        "    batch_size=batch_size,\n",
        "    class_mode='binary'\n",
        ")\n",
        "\n",
        "test_generator = test_datagen.flow_from_directory(\n",
        "    test_folder,\n",
        "    target_size=image_size,\n",
        "    batch_size=batch_size,\n",
        "    class_mode='binary'\n",
        ")"
      ],
      "metadata": {
        "colab": {
          "base_uri": "https://localhost:8080/"
        },
        "id": "OjsYNofdJkCW",
        "outputId": "537a2e41-96be-426a-b6a3-9c25f697e979"
      },
      "execution_count": 16,
      "outputs": [
        {
          "output_type": "stream",
          "name": "stdout",
          "text": [
            "Found 711 images belonging to 2 classes.\n",
            "Found 179 images belonging to 2 classes.\n"
          ]
        }
      ]
    },
    {
      "cell_type": "markdown",
      "source": [
        "#### Load pre-trained VGG16 model + higher level layers"
      ],
      "metadata": {
        "id": "IZWWIvc4PvzS"
      }
    },
    {
      "cell_type": "code",
      "source": [
        "base_model = VGG16(weights='imagenet', include_top=False, input_shape=(224, 224, 3))"
      ],
      "metadata": {
        "colab": {
          "base_uri": "https://localhost:8080/"
        },
        "id": "zncHH8PdJo1Y",
        "outputId": "5a6dafad-2a1b-4293-fc39-26233dd335ee"
      },
      "execution_count": 17,
      "outputs": [
        {
          "output_type": "stream",
          "name": "stdout",
          "text": [
            "Downloading data from https://storage.googleapis.com/tensorflow/keras-applications/vgg16/vgg16_weights_tf_dim_ordering_tf_kernels_notop.h5\n",
            "58889256/58889256 [==============================] - 0s 0us/step\n"
          ]
        }
      ]
    },
    {
      "cell_type": "markdown",
      "source": [
        "#### Freeze base model"
      ],
      "metadata": {
        "id": "36IqvzSmPx4j"
      }
    },
    {
      "cell_type": "code",
      "source": [
        "for layer in base_model.layers:\n",
        "    layer.trainable = False"
      ],
      "metadata": {
        "id": "CGhhdsEoJqzl"
      },
      "execution_count": 18,
      "outputs": []
    },
    {
      "cell_type": "markdown",
      "source": [
        "#### Add custom layers on top of VGG16 base"
      ],
      "metadata": {
        "id": "4tmMnljbP8Li"
      }
    },
    {
      "cell_type": "code",
      "source": [
        "model = Sequential([\n",
        "    base_model,\n",
        "    GlobalAveragePooling2D(),\n",
        "    Dense(256, activation='relu'),\n",
        "    Dropout(0.5),\n",
        "    Dense(1, activation='sigmoid')\n",
        "])\n"
      ],
      "metadata": {
        "id": "H_K72rFzJsZd"
      },
      "execution_count": 19,
      "outputs": []
    },
    {
      "cell_type": "markdown",
      "source": [
        "#### Compile the model"
      ],
      "metadata": {
        "id": "yz504MiWQAUY"
      }
    },
    {
      "cell_type": "code",
      "source": [
        "optimizer = Adam(learning_rate=0.0001)\n",
        "model.compile(loss='binary_crossentropy', optimizer=optimizer, metrics=['accuracy'])"
      ],
      "metadata": {
        "id": "sBwde4nLJuu2"
      },
      "execution_count": 20,
      "outputs": []
    },
    {
      "cell_type": "markdown",
      "source": [
        "#### Define callbacks for early stopping and learning rate reduction"
      ],
      "metadata": {
        "id": "GRqFCA7KQDEk"
      }
    },
    {
      "cell_type": "code",
      "source": [
        "early_stop = EarlyStopping(monitor='val_loss', patience=5, restore_best_weights=True)\n",
        "reduce_lr = ReduceLROnPlateau(monitor='val_loss', factor=0.2, patience=3, min_lr=1e-6)"
      ],
      "metadata": {
        "id": "_u1SJSsNJxXn"
      },
      "execution_count": 21,
      "outputs": []
    },
    {
      "cell_type": "markdown",
      "source": [
        "#### Train the model with callbacks"
      ],
      "metadata": {
        "id": "4bwEBK3jQHVS"
      }
    },
    {
      "cell_type": "code",
      "source": [
        "history = model.fit(\n",
        "    train_generator,\n",
        "    steps_per_epoch=train_generator.samples // batch_size,\n",
        "    epochs=50,\n",
        "    validation_data=test_generator,\n",
        "    validation_steps=test_generator.samples // batch_size,\n",
        "    callbacks=[early_stop, reduce_lr]\n",
        ")"
      ],
      "metadata": {
        "colab": {
          "base_uri": "https://localhost:8080/"
        },
        "id": "sS8PikrwJy-z",
        "outputId": "9ff7caff-b852-40c9-b9e6-0d290dd035d5"
      },
      "execution_count": 22,
      "outputs": [
        {
          "output_type": "stream",
          "name": "stdout",
          "text": [
            "Epoch 1/50\n",
            "22/22 [==============================] - 536s 25s/step - loss: 0.7186 - accuracy: 0.5331 - val_loss: 0.6670 - val_accuracy: 0.7063 - lr: 1.0000e-04\n",
            "Epoch 2/50\n",
            "22/22 [==============================] - 547s 25s/step - loss: 0.6757 - accuracy: 0.5909 - val_loss: 0.6269 - val_accuracy: 0.7812 - lr: 1.0000e-04\n",
            "Epoch 3/50\n",
            "22/22 [==============================] - 550s 25s/step - loss: 0.6563 - accuracy: 0.6293 - val_loss: 0.5920 - val_accuracy: 0.8375 - lr: 1.0000e-04\n",
            "Epoch 4/50\n",
            "22/22 [==============================] - 450s 21s/step - loss: 0.6182 - accuracy: 0.6598 - val_loss: 0.5685 - val_accuracy: 0.8438 - lr: 1.0000e-04\n",
            "Epoch 5/50\n",
            "22/22 [==============================] - 458s 21s/step - loss: 0.6068 - accuracy: 0.6974 - val_loss: 0.5356 - val_accuracy: 0.8625 - lr: 1.0000e-04\n",
            "Epoch 6/50\n",
            "22/22 [==============================] - 504s 23s/step - loss: 0.5704 - accuracy: 0.7378 - val_loss: 0.5032 - val_accuracy: 0.8813 - lr: 1.0000e-04\n",
            "Epoch 7/50\n",
            "22/22 [==============================] - 448s 20s/step - loss: 0.5541 - accuracy: 0.7408 - val_loss: 0.4888 - val_accuracy: 0.8750 - lr: 1.0000e-04\n",
            "Epoch 8/50\n",
            "22/22 [==============================] - 506s 24s/step - loss: 0.5123 - accuracy: 0.7953 - val_loss: 0.4468 - val_accuracy: 0.9062 - lr: 1.0000e-04\n",
            "Epoch 9/50\n",
            "22/22 [==============================] - 509s 23s/step - loss: 0.5052 - accuracy: 0.7923 - val_loss: 0.4447 - val_accuracy: 0.8938 - lr: 1.0000e-04\n",
            "Epoch 10/50\n",
            "22/22 [==============================] - 509s 23s/step - loss: 0.4757 - accuracy: 0.8380 - val_loss: 0.4120 - val_accuracy: 0.9062 - lr: 1.0000e-04\n",
            "Epoch 11/50\n",
            "22/22 [==============================] - 506s 23s/step - loss: 0.4501 - accuracy: 0.8483 - val_loss: 0.3978 - val_accuracy: 0.8813 - lr: 1.0000e-04\n",
            "Epoch 12/50\n",
            "22/22 [==============================] - 505s 23s/step - loss: 0.4357 - accuracy: 0.8395 - val_loss: 0.3629 - val_accuracy: 0.9187 - lr: 1.0000e-04\n",
            "Epoch 13/50\n",
            "22/22 [==============================] - 457s 21s/step - loss: 0.4331 - accuracy: 0.8336 - val_loss: 0.3694 - val_accuracy: 0.9062 - lr: 1.0000e-04\n",
            "Epoch 14/50\n",
            "22/22 [==============================] - 513s 24s/step - loss: 0.4017 - accuracy: 0.8542 - val_loss: 0.3480 - val_accuracy: 0.9062 - lr: 1.0000e-04\n",
            "Epoch 15/50\n",
            "22/22 [==============================] - 455s 21s/step - loss: 0.3889 - accuracy: 0.8792 - val_loss: 0.3350 - val_accuracy: 0.9312 - lr: 1.0000e-04\n",
            "Epoch 16/50\n",
            "22/22 [==============================] - 513s 24s/step - loss: 0.3786 - accuracy: 0.8851 - val_loss: 0.3302 - val_accuracy: 0.9312 - lr: 1.0000e-04\n",
            "Epoch 17/50\n",
            "22/22 [==============================] - 466s 21s/step - loss: 0.3735 - accuracy: 0.8704 - val_loss: 0.3108 - val_accuracy: 0.9438 - lr: 1.0000e-04\n",
            "Epoch 18/50\n",
            "22/22 [==============================] - 443s 20s/step - loss: 0.3715 - accuracy: 0.8660 - val_loss: 0.2960 - val_accuracy: 0.9375 - lr: 1.0000e-04\n",
            "Epoch 19/50\n",
            "22/22 [==============================] - 520s 24s/step - loss: 0.3454 - accuracy: 0.8984 - val_loss: 0.2844 - val_accuracy: 0.9375 - lr: 1.0000e-04\n",
            "Epoch 20/50\n",
            "22/22 [==============================] - 456s 21s/step - loss: 0.3507 - accuracy: 0.8822 - val_loss: 0.2938 - val_accuracy: 0.9312 - lr: 1.0000e-04\n",
            "Epoch 21/50\n",
            "22/22 [==============================] - 511s 23s/step - loss: 0.3415 - accuracy: 0.8733 - val_loss: 0.2733 - val_accuracy: 0.9563 - lr: 1.0000e-04\n",
            "Epoch 22/50\n",
            "22/22 [==============================] - 448s 21s/step - loss: 0.3353 - accuracy: 0.8851 - val_loss: 0.2738 - val_accuracy: 0.9438 - lr: 1.0000e-04\n",
            "Epoch 23/50\n",
            "22/22 [==============================] - 504s 23s/step - loss: 0.3258 - accuracy: 0.8940 - val_loss: 0.2572 - val_accuracy: 0.9563 - lr: 1.0000e-04\n",
            "Epoch 24/50\n",
            "22/22 [==============================] - 457s 21s/step - loss: 0.3223 - accuracy: 0.8837 - val_loss: 0.2490 - val_accuracy: 0.9500 - lr: 1.0000e-04\n",
            "Epoch 25/50\n",
            "22/22 [==============================] - 513s 24s/step - loss: 0.3030 - accuracy: 0.8807 - val_loss: 0.2373 - val_accuracy: 0.9500 - lr: 1.0000e-04\n",
            "Epoch 26/50\n",
            "22/22 [==============================] - 506s 23s/step - loss: 0.3038 - accuracy: 0.8969 - val_loss: 0.2290 - val_accuracy: 0.9625 - lr: 1.0000e-04\n",
            "Epoch 27/50\n",
            "22/22 [==============================] - 503s 23s/step - loss: 0.2947 - accuracy: 0.9116 - val_loss: 0.2273 - val_accuracy: 0.9625 - lr: 1.0000e-04\n",
            "Epoch 28/50\n",
            "22/22 [==============================] - 500s 23s/step - loss: 0.2920 - accuracy: 0.9087 - val_loss: 0.2439 - val_accuracy: 0.9375 - lr: 1.0000e-04\n",
            "Epoch 29/50\n",
            "22/22 [==============================] - 502s 24s/step - loss: 0.2715 - accuracy: 0.9087 - val_loss: 0.2143 - val_accuracy: 0.9563 - lr: 1.0000e-04\n",
            "Epoch 30/50\n",
            "22/22 [==============================] - 441s 20s/step - loss: 0.2756 - accuracy: 0.9087 - val_loss: 0.2350 - val_accuracy: 0.9500 - lr: 1.0000e-04\n",
            "Epoch 31/50\n",
            "22/22 [==============================] - 455s 21s/step - loss: 0.2676 - accuracy: 0.9146 - val_loss: 0.2318 - val_accuracy: 0.9438 - lr: 1.0000e-04\n",
            "Epoch 32/50\n",
            "22/22 [==============================] - 513s 24s/step - loss: 0.2787 - accuracy: 0.9057 - val_loss: 0.2169 - val_accuracy: 0.9563 - lr: 1.0000e-04\n",
            "Epoch 33/50\n",
            "22/22 [==============================] - 511s 23s/step - loss: 0.2535 - accuracy: 0.9131 - val_loss: 0.2314 - val_accuracy: 0.9500 - lr: 2.0000e-05\n",
            "Epoch 34/50\n",
            "22/22 [==============================] - 457s 21s/step - loss: 0.2548 - accuracy: 0.9205 - val_loss: 0.2281 - val_accuracy: 0.9438 - lr: 2.0000e-05\n"
          ]
        }
      ]
    },
    {
      "cell_type": "markdown",
      "source": [
        "#### Evaluate the model on the test set"
      ],
      "metadata": {
        "id": "CxfHE5x6QLZg"
      }
    },
    {
      "cell_type": "code",
      "source": [
        "steps = test_generator.samples // batch_size\n",
        "if test_generator.samples % batch_size != 0:\n",
        "    steps += 1\n",
        "\n",
        "test_loss, test_accuracy = model.evaluate(test_generator, steps=steps)\n",
        "print(f'Test accuracy: {test_accuracy * 100:.2f}%')"
      ],
      "metadata": {
        "colab": {
          "base_uri": "https://localhost:8080/"
        },
        "id": "Szxquh42J10y",
        "outputId": "726d0143-27d6-4061-8d6f-c2f2516caa67"
      },
      "execution_count": 23,
      "outputs": [
        {
          "output_type": "stream",
          "name": "stdout",
          "text": [
            "6/6 [==============================] - 95s 16s/step - loss: 0.2280 - accuracy: 0.9497\n",
            "Test accuracy: 94.97%\n"
          ]
        }
      ]
    },
    {
      "cell_type": "markdown",
      "source": [
        "#### Plot training & validation accuracy values"
      ],
      "metadata": {
        "id": "lWSiExS5QOdi"
      }
    },
    {
      "cell_type": "code",
      "source": [
        "plt.figure(figsize=(12, 4))\n",
        "plt.subplot(1, 2, 1)\n",
        "plt.plot(history.history['accuracy'])\n",
        "plt.plot(history.history['val_accuracy'])\n",
        "plt.title('Model accuracy')\n",
        "plt.ylabel('Accuracy')\n",
        "plt.xlabel('Epoch')\n",
        "plt.legend(['Train', 'Validation'], loc='upper left')"
      ],
      "metadata": {
        "colab": {
          "base_uri": "https://localhost:8080/",
          "height": 427
        },
        "id": "O1YblIzoJ39h",
        "outputId": "9d6bdb24-7eef-47f4-d7bb-fde379dc871d"
      },
      "execution_count": 24,
      "outputs": [
        {
          "output_type": "execute_result",
          "data": {
            "text/plain": [
              "<matplotlib.legend.Legend at 0x7d39c57b93f0>"
            ]
          },
          "metadata": {},
          "execution_count": 24
        },
        {
          "output_type": "display_data",
          "data": {
            "text/plain": [
              "<Figure size 1200x400 with 1 Axes>"
            ],
            "image/png": "[encoded data removed]"
          },
          "metadata": {}
        }
      ]
    },
    {
      "cell_type": "markdown",
      "source": [
        "#### Plot training & validation loss values"
      ],
      "metadata": {
        "id": "YQkORgspQSRx"
      }
    },
    {
      "cell_type": "code",
      "source": [
        "plt.subplot(1, 2, 2)\n",
        "plt.plot(history.history['loss'])\n",
        "plt.plot(history.history['val_loss'])\n",
        "plt.title('Model loss')\n",
        "plt.ylabel('Loss')\n",
        "plt.xlabel('Epoch')\n",
        "plt.legend(['Train', 'Validation'], loc='upper left')\n",
        "plt.show()"
      ],
      "metadata": {
        "colab": {
          "base_uri": "https://localhost:8080/",
          "height": 472
        },
        "id": "Q9gHqrRvJ5zS",
        "outputId": "d9c0a2a8-08b8-457b-de7d-e29b721d4d26"
      },
      "execution_count": 25,
      "outputs": [
        {
          "output_type": "display_data",
          "data": {
            "text/plain": [
              "<Figure size 640x480 with 1 Axes>"
            ],
            "image/png": "[encoded data removed]"
          },
          "metadata": {}
        }
      ]
    },
    {
      "cell_type": "markdown",
      "source": [
        "#### Function to count images in each class in a directory"
      ],
      "metadata": {
        "id": "IAyuF65BQVxi"
      }
    },
    {
      "cell_type": "code",
      "source": [
        "def count_images_in_classes(directory):\n",
        "    class_counts = {}\n",
        "    for class_name in os.listdir(directory):\n",
        "        class_path = os.path.join(directory, class_name)\n",
        "        if os.path.isdir(class_path):\n",
        "            class_counts[class_name] = len(os.listdir(class_path))\n",
        "    return class_counts"
      ],
      "metadata": {
        "id": "FPj9YKwLJ73c"
      },
      "execution_count": 26,
      "outputs": []
    },
    {
      "cell_type": "markdown",
      "source": [
        "#### Count images in training and testing directories"
      ],
      "metadata": {
        "id": "BGryAic0QZAS"
      }
    },
    {
      "cell_type": "code",
      "source": [
        "train_counts = count_images_in_classes(train_folder)\n",
        "test_counts = count_images_in_classes(test_folder)\n",
        "\n",
        "print('Training set image counts:', train_counts)\n",
        "print('Testing set image counts:', test_counts)"
      ],
      "metadata": {
        "colab": {
          "base_uri": "https://localhost:8080/"
        },
        "id": "6b3Zxo1tJ-Af",
        "outputId": "1ff29f6b-25ab-49ef-f51f-bc023ee24b65"
      },
      "execution_count": 27,
      "outputs": [
        {
          "output_type": "stream",
          "name": "stdout",
          "text": [
            "Training set image counts: {'cardboard': 322, 'glass': 389}\n",
            "Testing set image counts: {'cardboard': 81, 'glass': 98}\n"
          ]
        }
      ]
    }
  ]
}